{
 "cells": [
  {
   "cell_type": "code",
   "execution_count": 1,
   "metadata": {},
   "outputs": [
    {
     "name": "stdout",
     "output_type": "stream",
     "text": [
      "None\n"
     ]
    }
   ],
   "source": [
    "def job(arg): \n",
    "    answer = arg + 1\n",
    "print(job(1)) # None\n",
    "# Noneになる理由は、job関数がreturn文を持っていないからです。"
   ]
  },
  {
   "cell_type": "code",
   "execution_count": 2,
   "metadata": {},
   "outputs": [
    {
     "ename": "NameError",
     "evalue": "name 'num' is not defined",
     "output_type": "error",
     "traceback": [
      "\u001b[1;31m---------------------------------------------------------------------------\u001b[0m",
      "\u001b[1;31mNameError\u001b[0m                                 Traceback (most recent call last)",
      "Cell \u001b[1;32mIn[2], line 3\u001b[0m\n\u001b[0;32m      1\u001b[0m num \u001b[38;5;241m=\u001b[39m [\u001b[38;5;241m1\u001b[39m, \u001b[38;5;241m2\u001b[39m, \u001b[38;5;241m3\u001b[39m]\n\u001b[0;32m      2\u001b[0m \u001b[38;5;28;01mdel\u001b[39;00m num\n\u001b[1;32m----> 3\u001b[0m \u001b[38;5;28mprint\u001b[39m(\u001b[43mnum\u001b[49m)\n",
      "\u001b[1;31mNameError\u001b[0m: name 'num' is not defined"
     ]
    }
   ],
   "source": [
    "num = [1, 2, 3]\n",
    "del num\n",
    "print(num)"
   ]
  },
  {
   "cell_type": "code",
   "execution_count": 3,
   "metadata": {},
   "outputs": [
    {
     "name": "stdout",
     "output_type": "stream",
     "text": [
      "{'pine', 'apple', 'pen'}\n"
     ]
    }
   ],
   "source": [
    "set = {'pine', 'apple', 'apple', 'pen'}\n",
    "\n",
    "print(set)"
   ]
  },
  {
   "cell_type": "code",
   "execution_count": null,
   "metadata": {},
   "outputs": [],
   "source": [
    "import re\n",
    "s = \"tic tac tac toe\"\n",
    "print(re.sub(r\"([a-z])+ \\1\", r\"\\1\", s)) \n",
    "# re.subは置換を行う関数です。第一引数に置換対象の文字列、第二引数に置換後の文字列、\n",
    "# 第三引数に置換対象の文字列を指定します。\n",
    "# この場合、\"([a-z])+ \\1\"は、アルファベットの1文字以上の文字列とその後にスペースと同じ文字列が続く文字列を指定しています。\n",
    "# この文字列が見つかった場合、その文字列を1文字目だけに置換します。したがって、\"tic tac tac toe\"は\"tic tac toe\"に置換されます。"
   ]
  },
  {
   "cell_type": "code",
   "execution_count": 6,
   "metadata": {},
   "outputs": [
    {
     "name": "stdout",
     "output_type": "stream",
     "text": [
      "['A', 'AtCoder-practice', \"Euclid'.py\", 'game.py', 'kenteiyou.ipynb', 'object', 'Python3_kentei', 'standard_input.py', 'standard_input2.py', 'standard_input3.py', 't.py']\n"
     ]
    }
   ],
   "source": [
    "# globモジュール\n",
    "# globモジュールは、ファイルのパス名を取得するためのモジュールです。\n",
    "# ワイルドカードを使ってファイル名を指定することができます。\n",
    "# 以下の例では、globモジュールを使って、カレントディレクトリの全てのファイルのパス名を取得しています。\n",
    "import glob\n",
    "files = glob.glob('*')\n",
    "print(files)"
   ]
  },
  {
   "cell_type": "code",
   "execution_count": 7,
   "metadata": {},
   "outputs": [
    {
     "name": "stdout",
     "output_type": "stream",
     "text": [
      "ga-ga-\n",
      "quack\n",
      "coin\n",
      "ga-ga-\n"
     ]
    }
   ],
   "source": [
    "class Duck:\n",
    "    def __init__(self): #このselfはインスタンス自身を指す\n",
    "        self.birdsong = \"quack\" #インスタンス変数\n",
    "\n",
    "    def sing(self): #メソッドとはクラス内で定義された関数のこと\n",
    "        birdsong = \"ga-ga-\" #ローカル変数/メソッド内でのみ有効\n",
    "        print(birdsong) #ローカル変数が優先される\n",
    "        print(self.birdsong) #インスタンス変数を参照する場合はselfをつける\n",
    "        self.birdsong = \"coin\" #インスタンス変数を変更する場合もselfをつける\n",
    "        print(self.birdsong) #coin\n",
    "        print(birdsong) #ga-ga-\n",
    "\n",
    "duck = Duck() #インスタンス化\n",
    "duck.sing() #ga-ga- quack coin ga-ga-\n",
    "        "
   ]
  },
  {
   "cell_type": "code",
   "execution_count": 11,
   "metadata": {},
   "outputs": [
    {
     "ename": "SyntaxError",
     "evalue": "invalid syntax (4093820842.py, line 1)",
     "output_type": "error",
     "traceback": [
      "\u001b[1;36m  Cell \u001b[1;32mIn[11], line 1\u001b[1;36m\u001b[0m\n\u001b[1;33m    drnd ValueError(\"エラーが発生しました\") #エラーを発生させる.raiseは例外を発生させるためのキーワードです。\u001b[0m\n\u001b[1;37m         ^\u001b[0m\n\u001b[1;31mSyntaxError\u001b[0m\u001b[1;31m:\u001b[0m invalid syntax\n"
     ]
    }
   ],
   "source": [
    "raise ValueError(\"エラーが発生しました\") #エラーを発生させる.raiseは例外を発生させるためのキーワードです。raiseの意味は「引き起こす」です。"
   ]
  },
  {
   "cell_type": "code",
   "execution_count": 14,
   "metadata": {},
   "outputs": [
    {
     "name": "stdout",
     "output_type": "stream",
     "text": [
      "[2, 3, 4]\n",
      "{1, 2, 3}\n",
      "1\n"
     ]
    }
   ],
   "source": [
    "sample_tuple1 = [2, 3, 4]\n",
    "sample_tuple2 = {1, 2, 3}\n",
    "#sample_tuple = tuple(1, 2, 3)\n",
    "sample_tuple3 = \"1\"\n",
    "print(sample_tuple1)\n",
    "print(sample_tuple2)\n",
    "#print(sample_tuple)\n",
    "print(sample_tuple3)"
   ]
  },
  {
   "cell_type": "code",
   "execution_count": 15,
   "metadata": {},
   "outputs": [
    {
     "name": "stdout",
     "output_type": "stream",
     "text": [
      "4\n",
      "10\n",
      "18\n"
     ]
    }
   ],
   "source": [
    "# zip関数の動き\n",
    "for i, j in zip([1, 2, 3], [4, 5, 6]):\n",
    "    print(i * j)"
   ]
  }
 ],
 "metadata": {
  "kernelspec": {
   "display_name": "Python 3",
   "language": "python",
   "name": "python3"
  },
  "language_info": {
   "codemirror_mode": {
    "name": "ipython",
    "version": 3
   },
   "file_extension": ".py",
   "mimetype": "text/x-python",
   "name": "python",
   "nbconvert_exporter": "python",
   "pygments_lexer": "ipython3",
   "version": "3.10.4"
  }
 },
 "nbformat": 4,
 "nbformat_minor": 2
}
